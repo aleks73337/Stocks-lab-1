{
 "cells": [
  {
   "cell_type": "code",
   "execution_count": 1,
   "metadata": {},
   "outputs": [],
   "source": [
    "import pandas as pd\n",
    "import numpy as np\n",
    "import matplotlib.pyplot as plt"
   ]
  },
  {
   "cell_type": "code",
   "execution_count": 2,
   "metadata": {},
   "outputs": [],
   "source": [
    "PATH = \"C:/Users/Admin/Documents/Untitled Folder\""
   ]
  },
  {
   "cell_type": "code",
   "execution_count": 4,
   "metadata": {},
   "outputs": [],
   "source": [
    "df = pd.read_csv(PATH + \"/all.csv\")\n"
   ]
  },
  {
   "cell_type": "code",
   "execution_count": 5,
   "metadata": {},
   "outputs": [],
   "source": [
    "file1 = open(PATH + '/NYSE.txt',\"r\") \n",
    "NYSE_stocks = []\n",
    "for line in file1:\n",
    "    ln = line.split('\\t')\n",
    "    ln[1] = ln[1].split('\\n')[0]\n",
    "    NYSE_stocks.append(ln)\n",
    "file1.close()"
   ]
  },
  {
   "cell_type": "code",
   "execution_count": 6,
   "metadata": {},
   "outputs": [],
   "source": [
    "NYSE_stocks = NYSE_stocks[1:-1]"
   ]
  },
  {
   "cell_type": "code",
   "execution_count": 7,
   "metadata": {},
   "outputs": [
    {
     "name": "stdout",
     "output_type": "stream",
     "text": [
      "['A', 'AA', 'AAC', 'AAN', 'AAP', 'AAT', 'AB', 'ABB', 'ABBV', 'ABC', 'ABEV', 'ABG', 'ABM', 'ABR', 'ABR-A', 'ABR-B', 'ABR-C', 'ABT', 'AC', 'ACA', 'ACB', 'ACC', 'ACCO', 'ACH', 'ACM', 'ACN', 'ACP', 'ACRE', 'ACV', 'ADC', 'ADM', 'ADNT', 'ADS', 'ADSW', 'ADT', 'ADX', 'AEB', 'AEE', 'AEG', 'AEH', 'AEL', 'AEM', 'AEO', 'AEP', 'AEP-B', 'AER', 'AES', 'AFB', 'AFC', 'AFG', 'AFGB', 'AFGE', 'AFGH', 'AFI', 'AFL', 'AFT', 'AG', 'AGCO', 'AGD', 'AGI', 'AGM', 'AGM-A', 'AGM-C', 'AGM-D', 'AGM.A', 'AGN', 'AGO', 'AGO-B', 'AGO-E', 'AGO-F', 'AGR', 'AGRO', 'AGS', 'AGX', 'AHC', 'AHH', 'AHH-A', 'AHL-C', 'AHL-D', 'AHL-E', 'AHT', 'AHT-D', 'AHT-F', 'AHT-G', 'AHT-H', 'AHT-I', 'AI', 'AI-B', 'AI-C', 'AIC', 'AIF', 'AIG', 'AIG-A', 'AIG.W', 'AIN', 'AIR', 'AIT', 'AIV', 'AIW', 'AIY', 'AIZ', 'AIZP', 'AJG', 'AJRD', 'AJX', 'AJXA', 'AKO.A', 'AKO.B', 'AKR', 'AKS', 'AL', 'AL-A', 'ALB', 'ALC', 'ALE', 'ALEX', 'ALG', 'ALK', 'ALL', 'ALL-A', 'ALL-B', 'ALL-D', 'ALL-E', 'ALL-F', 'ALL-G', 'ALL-H', 'ALL-Y', 'ALLE', 'ALLY', 'ALP-Q', 'ALSN', 'ALV', 'ALX', 'AM', 'AMC', 'AMCR', 'AME', 'AMG', 'AMH', 'AMH-D', 'AMH-E', 'AMH-F', 'AMH-G', 'AMH-H', 'AMK', 'AMN', 'AMOV', 'AMP', 'AMPY', 'AMRC', 'AMRX', 'AMT', 'AMX', 'AN', 'ANET', 'ANF', 'ANFI', 'ANH', 'ANH-A', 'ANH-B', 'ANH-C', 'ANTM', 'AOD', 'AON', 'AOS', 'AP', 'APA', 'APAM', 'APC', 'APD', 'APH', 'APHA', 'APLE', 'APO', 'APO-A', 'APO-B', 'APRN', 'APTS', 'APTV', 'APU', 'APY', 'AQ', 'AQN', 'AQNA', 'AQNB', 'AQUA', 'AR', 'ARA', 'ARC', 'ARCH', 'ARCO', 'ARD', 'ARDC', 'ARE', 'ARE-A', 'ARE-D', 'ARES', 'ARGD', 'ARGO', 'ARI', 'ARL', 'ARLO', 'ARMK', 'ARNC', 'AROC', 'ARR', 'ARR-B', 'ARW', 'ASA', 'ASB', 'ASB-C', 'ASB-D', 'ASB-E', 'ASC', 'ASG', 'ASGN', 'ASH', 'ASIX', 'ASPN', 'ASR', 'ASX', 'AT', 'ATEN', 'ATGE', 'ATH', 'ATH-A', 'ATHM', 'ATI', 'ATKR', 'ATO', 'ATR', 'ATTO', 'ATU', 'ATUS', 'ATV', 'AU', 'AUO', 'AUY', 'AVA', 'AVAL', 'AVB', 'AVD', 'AVH', 'AVK', 'AVLR', 'AVNS', 'AVP', 'AVT-A', 'AVTR', 'AVX', 'AVY', 'AVYA', 'AWF', 'AWI', 'AWK', 'AWP', 'AWR', 'AX', 'AXE', 'AXL', 'AXO', 'AXP', 'AXR', 'AXS', 'AXS-D', 'AXS-E', 'AXTA', 'AYI', 'AYR', 'AYX', 'AZN', 'AZO', 'AZRE', 'AZUL', 'AZZ', 'B', 'BA', 'BABA', 'BAC', 'BAC-A', 'BAC-B', 'BAC-C', 'BAC-E', 'BAC-K', 'BAC-L', 'BAC-M', 'BAC-W', 'BAC-Y', 'BAF', 'BAH', 'BAM', 'BAN-D', 'BAN-E', 'BANC', 'BAP', 'BAS', 'BAX', 'BB', 'BBAR', 'BBD', 'BBDC', 'BBDO', 'BBF', 'BBK', 'BBL', 'BBN', 'BBT', 'BBT-D', 'BBT-E', 'BBT-F', 'BBT-G', 'BBT-H', 'BBU', 'BBVA', 'BBW', 'BBX', 'BBY', 'BC', 'BC-A', 'BC-B', 'BC-C', 'BCC', 'BCE', 'BCEI', 'BCH', 'BCO', 'BCRH', 'BCS', 'BCSF', 'BCX', 'BDC', 'BDJ', 'BDN', 'BDX', 'BDXA', 'BE', 'BEDU', 'BEN', 'BEP', 'BERY', 'BEST', 'BF.A', 'BF.B', 'BFAM', 'BFK', 'BFO', 'BFS', 'BFS-C', 'BFS-D', 'BFY', 'BFZ', 'BG', 'BGB', 'BGG', 'BGH', 'BGIO', 'BGR', 'BGS', 'BGT', 'BGX', 'BGY', 'BH', 'BH.A', 'BHC', 'BHE', 'BHGE', 'BHK', 'BHLB', 'BHP', 'BHR', 'BHR-B', 'BHR-D', 'BHV', 'BHVN', 'BID', 'BIF', 'BIG', 'BIO', 'BIO.B', 'BIP', 'BIT', 'BITA', 'BJ', 'BK', 'BK-C', 'BKD', 'BKE', 'BKH', 'BKI', 'BKK', 'BKN', 'BKT', 'BKU', 'BLD', 'BLE', 'BLK', 'BLL', 'BLW', 'BLX', 'BMA', 'BME', 'BMI', 'BML-G', 'BML-H', 'BML-J', 'BML-L', 'BMO', 'BMY', 'BNED', 'BNS', 'BNY', 'BOE', 'BOH', 'BOOT', 'BORR', 'BOX', 'BP', 'BPL', 'BPMP', 'BPT', 'BQH', 'BR', 'BRC', 'BRFS', 'BRK.A', 'BRK.B', 'BRO', 'BRP.U', 'BRP.W', 'BRPM', 'BRT', 'BRX', 'BSA', 'BSAC', 'BSBR', 'BSD', 'BSE', 'BSIG', 'BSL', 'BSM', 'BSMX', 'BST', 'BSTZ', 'BSX', 'BT', 'BTA', 'BTE', 'BTI', 'BTO', 'BTT', 'BTU', 'BTZ', 'BUD', 'BUI', 'BURL', 'BV', 'BVN', 'BW', 'BWA', 'BWG', 'BWXT', 'BX', 'BXC', 'BXG', 'BXMT', 'BXMX', 'BXP', 'BXP-B', 'BXS', 'BY', 'BYD', 'BYM', 'BZH', 'BZM', 'C', 'C-J', 'C-K', 'C-N', 'C-S', 'CAAP', 'CABO', 'CACI', 'CADE', 'CAE', 'CAF', 'CAG', 'CAH', 'CAI', 'CAI-A', 'CAI-B', 'CAJ', 'CAL', 'CALX', 'CANG', 'CAPL', 'CARS', 'CAT', 'CATO', 'CB', 'CBB', 'CBB-B', 'CBD', 'CBH', 'CBL', 'CBL-D', 'CBL-E', 'CBM', 'CBPX', 'CBRE', 'CBS', 'CBS.A', 'CBT', 'CBU', 'CBZ', 'CC', 'CCC', 'CCEP', 'CCH', 'CCH.U', 'CCH.W', 'CCI', 'CCI-A', 'CCJ', 'CCK', 'CCL', 'CCM', 'CCO', 'CCR', 'CCS', 'CCU', 'CCX', 'CCX.U', 'CCX.W', 'CCZ', 'CDAY', 'CDE', 'CDR', 'CDR-B', 'CDR-C', 'CE', 'CEA', 'CEE', 'CEIX', 'CEL', 'CELP', 'CEM', 'CEN', 'CEO', 'CEPU', 'CEQ.P', 'CEQP', 'CF', 'CFG', 'CFG-D', 'CFR', 'CFR-A', 'CFX', 'CFXA', 'CGA', 'CGC', 'CHA', 'CHAP', 'CHCT', 'CHD', 'CHE', 'CHGG', 'CHH', 'CHK', 'CHK-D', 'CHKR', 'CHL', 'CHM-A', 'CHM-B', 'CHMI', 'CHN', 'CHRA', 'CHS', 'CHSP', 'CHT', 'CHU', 'CHWY', 'CI', 'CIA', 'CIB', 'CIEN', 'CIF', 'CIG', 'CIG.C', 'CII', 'CIM', 'CIM-A', 'CIM-B', 'CIM-C', 'CIM-D', 'CINR', 'CIO', 'CIO-A', 'CIR', 'CISN', 'CIT', 'CJ', 'CKH', 'CL', 'CLB', 'CLDR', 'CLDT', 'CLF', 'CLGX', 'CLH', 'CLI', 'CLN-B', 'CLN-E', 'CLN-G', 'CLN-H', 'CLN-I', 'CLN-J', 'CLNC', 'CLNY', 'CLPR', 'CLR', 'CLS', 'CLW', 'CLX', 'CM', 'CMA', 'CMC', 'CMCM', 'CMD', 'CMG', 'CMI', 'CMO', 'CMO-E', 'CMP', 'CMR-B', 'CMR-C', 'CMR-D', 'CMR-E', 'CMRE', 'CMS', 'CMS-B', 'CMSA', 'CMSC', 'CMSD', 'CMU', 'CNA', 'CNC', 'CNDT', 'CNF', 'CNHI', 'CNI', 'CNK', 'CNNE', 'CNO', 'CNP', 'CNP-B', 'CNQ', 'CNR', 'CNS', 'CNX', 'CNXM', 'CO', 'COD-A', 'COD-B', 'CODI', 'COE', 'COF', 'COF-C', 'COF-D', 'COF-F', 'COF-G', 'COF-H', 'COF-P', 'COG', 'COLD', 'COO', 'COP', 'COR', 'COR-Z', 'CORR', 'COT', 'COTY', 'CP', 'CPA', 'CPAC', 'CPB', 'CPE', 'CPF', 'CPG', 'CPK', 'CPL', 'CPLG', 'CPRI', 'CPS', 'CPT', 'CR', 'CRC', 'CRCM', 'CRD.A', 'CRD.B', 'CRH', 'CRI', 'CRK', 'CRL', 'CRM', 'CRR', 'CRS', 'CRT', 'CRY', 'CS', 'CSL', 'CSLT', 'CSS', 'CSTM', 'CSU', 'CSV', 'CTA-A', 'CTA-B', 'CTAA', 'CTB', 'CTBB', 'CTDD', 'CTK', 'CTL', 'CTLT', 'CTR', 'CTRA', 'CTS', 'CTST', 'CTT', 'CTV', 'CTVA', 'CTY', 'CTZ', 'CUB', 'CUB-C', 'CUB-D', 'CUB-E', 'CUB-F', 'CUBE', 'CUBI', 'CUK', 'CULP', 'CURO', 'CUZ', 'CVA', 'CVE', 'CVEO', 'CVI', 'CVIA', 'CVNA', 'CVS', 'CVX', 'CW', 'CWE.A', 'CWEN', 'CWH', 'CWK', 'CWT', 'CX', 'CXE', 'CXH', 'CXO', 'CXP', 'CXW', 'CYD', 'CYH', 'CZZ', 'D', 'DAC', 'DAL', 'DAN', 'DAR', 'DAVA', 'DB', 'DBD', 'DBI', 'DBL', 'DCF', 'DCI', 'DCO', 'DCP', 'DCP-B', 'DCP-C', 'DCUD', 'DCUE', 'DD', 'DDD', 'DDF', 'DDS', 'DDT', 'DE', 'DEA', 'DECK', 'DEI', 'DELL', 'DEO', 'DESP', 'DEX', 'DF', 'DFIN', 'DFP', 'DFS', 'DG', 'DGX', 'DHF', 'DHI', 'DHR', 'DHR-A', 'DHT', 'DHX', 'DIAX', 'DIN', 'DIS', 'DK', 'DKL', 'DKS', 'DKT', 'DL', 'DLB', 'DLN-A', 'DLN-B', 'DLNG', 'DLPH', 'DLR', 'DLR-C', 'DLR-G', 'DLR-I', 'DLR-J', 'DLR-K', 'DLX', 'DMB', 'DMO', 'DNI', 'DNOW', 'DNP', 'DNR', 'DO', 'DOC', 'DOOR', 'DOV', 'DOW', 'DPG', 'DPLO', 'DPZ', 'DQ', 'DRD', 'DRE', 'DRH', 'DRI', 'DRQ', 'DRUA', 'DS', 'DS-B', 'DS-C', 'DS-D', 'DSE', 'DSL', 'DSM', 'DSSI', 'DSU', 'DSX', 'DSX-B', 'DT', 'DTE', 'DTF', 'DTJ', 'DTL.P', 'DTQ', 'DTV', 'DTW', 'DTY', 'DUC', 'DUK', 'DUK-A', 'DUKB', 'DUKH', 'DVA', 'DVD', 'DVN', 'DX', 'DX-A', 'DX-B', 'DXB', 'DXC', 'DY', 'E', 'EAB', 'EAE', 'EAF', 'EAI', 'EARN', 'EAT', 'EB', 'EBF', 'EBR', 'EBR.B', 'EBS', 'EC', 'ECA', 'ECC', 'ECCA', 'ECCB', 'ECCX', 'ECCY', 'ECL', 'ECOM', 'ECT', 'ED', 'EDD', 'EDF', 'EDI', 'EDN', 'EDU', 'EE', 'EEA', 'EEX', 'EFC', 'EFF', 'EFL', 'EFR', 'EFT', 'EFX', 'EGF', 'EGHT', 'EGIF', 'EGO', 'EGP', 'EGY', 'EHC', 'EHI', 'EHT', 'EIC', 'EIG', 'EIX', 'EL', 'ELAN', 'ELC', 'ELF', 'ELJ', 'ELP', 'ELS', 'ELU', 'ELVT', 'ELY', 'EMD', 'EME', 'EMF', 'EMN', 'EMO', 'EMP', 'EMR', 'ENB', 'ENBA', 'ENBL', 'ENI.P', 'ENIA', 'ENIC', 'ENJ', 'ENLC', 'ENO', 'ENR', 'ENR-A', 'ENS', 'ENV', 'ENVA', 'ENZ', 'EOD', 'EOG', 'EOI', 'EOS', 'EOT', 'EP-C', 'EPAM', 'EPC', 'EPD', 'EPR', 'EPR-C', 'EPR-E', 'EPR-G', 'EPRT', 'EQC', 'EQC-D', 'EQH', 'EQM', 'EQNR', 'EQR', 'EQS', 'EQT', 'ERA', 'ERF', 'ERJ', 'EROS', 'ES', 'ESE', 'ESI', 'ESNT', 'ESRT', 'ESS', 'ESTC', 'ESTE', 'ET', 'ETB', 'ETG', 'ETH', 'ETJ', 'ETM', 'ETN', 'ETO', 'ETP-C', 'ETP-D', 'ETP-E', 'ETR', 'ETRN', 'ETV', 'ETW', 'ETX', 'ETY', 'EURN', 'EV', 'EVA', 'EVC', 'EVF', 'EVG', 'EVH', 'EVN', 'EVR', 'EVRG', 'EVRI', 'EVT', 'EVTC', 'EW', 'EXC', 'EXD', 'EXG', 'EXK', 'EXP', 'EXPR', 'EXR', 'EXTN', 'EZT', 'F', 'F-B', 'FAF', 'FAM', 'FBC', 'FBHS', 'FBK', 'FBM', 'FBP', 'FC', 'FCAU', 'FCF', 'FCN', 'FCPT', 'FCT', 'FCX', 'FDEU', 'FDP', 'FDS', 'FDX', 'FE', 'FEDU', 'FEI', 'FELP', 'FENG', 'FEO', 'FET', 'FF', 'FFA', 'FFC', 'FFG', 'FG', 'FG.W', 'FGB', 'FGP', 'FHN', 'FHN-A', 'FI', 'FICO', 'FIF', 'FII', 'FINS', 'FIS', 'FIT', 'FIV', 'FIX', 'FL', 'FLC', 'FLNG', 'FLO', 'FLOW', 'FLR', 'FLS', 'FLT', 'FLY', 'FMC', 'FMN', 'FMO', 'FMS', 'FMX', 'FMY', 'FN', 'FNB', 'FNB-E', 'FND', 'FNF', 'FNV', 'FOE', 'FOF', 'FOR', 'FPA.U', 'FPA.W', 'FPAC', 'FPF', 'FPH', 'FPI', 'FPI-B', 'FPL', 'FR', 'FRA', 'FRAC', 'FRC', 'FRC-D', 'FRC-F', 'FRC-G', 'FRC-H', 'FRC-I', 'FRO', 'FRT', 'FRT-C', 'FSB', 'FSD', 'FSK', 'FSLY', 'FSM', 'FSS', 'FT', 'FTAI', 'FTCH', 'FTI', 'FTK', 'FTS', 'FTSI', 'FTV', 'FTV-A', 'FUL', 'FUN', 'FVRR', 'G', 'GAB', 'GAB-D', 'GAB-G', 'GAB-H', 'GAB-J', 'GAM', 'GAM-B', 'GATX', 'GBAB', 'GBL', 'GBX', 'GCAP', 'GCI', 'GCO', 'GCP', 'GCV', 'GCV-B', 'GD', 'GDDY', 'GDI', 'GDL', 'GDL-C', 'GDO', 'GDOT', 'GDV', 'GDV-A', 'GDV-D', 'GDV-G', 'GDV-H', 'GE', 'GEF', 'GEF.B', 'GEL', 'GEN', 'GEO', 'GER', 'GES', 'GF', 'GFF', 'GFI', 'GFY', 'GGB', 'GGG', 'GGM', 'GGT', 'GGT-B', 'GGT-E', 'GGZ', 'GGZ-A', 'GHC', 'GHG', 'GHL', 'GHM', 'GHY', 'GIB', 'GIG', 'GIG.P', 'GIG.U', 'GIG.W', 'GIL', 'GIM', 'GIS', 'GIX', 'GIX.P', 'GIX.U', 'GIX.W', 'GJH', 'GJO', 'GJP', 'GJR', 'GJS', 'GJT', 'GJV', 'GKOS', 'GL', 'GL-C', 'GLO-A', 'GLO-B', 'GLO-C', 'GLO-G', 'GLOB', 'GLOG', 'GLOP', 'GLP', 'GLP-A', 'GLT', 'GLW', 'GM', 'GME', 'GMED', 'GMR-A', 'GMRE', 'GMS', 'GMTA', 'GMZ', 'GNC', 'GNE', 'GNE-A', 'GNK', 'GNL', 'GNL-A', 'GNRC', 'GNT', 'GNT-A', 'GNW', 'GOF', 'GOL', 'GOLD', 'GOLF', 'GOOS', 'GPC', 'GPI', 'GPJA', 'GPK', 'GPM', 'GPMT', 'GPN', 'GPRK', 'GPS', 'GPX', 'GRA', 'GRA.U', 'GRA.W', 'GRAF', 'GRAM', 'GRC', 'GRP.U', 'GRUB', 'GRX', 'GRX-A', 'GRX-B', 'GS', 'GS-A', 'GS-B', 'GS-C', 'GS-D', 'GS-J', 'GS-K', 'GS-N', 'GSA.U', 'GSA.W', 'GSAH', 'GSBD', 'GSH', 'GSK', 'GSL', 'GSL-B', 'GSX', 'GTES', 'GTN', 'GTN.A', 'GTS', 'GTT', 'GTX', 'GTY', 'GUT', 'GUT-A', 'GUT-C', 'GVA', 'GWB', 'GWR', 'GWRE', 'GWW', 'GYB', 'GYC', 'H', 'HAE', 'HAL', 'HASI', 'HBB', 'HBI', 'HBM', 'HCA', 'HCC', 'HCFT', 'HCHC', 'HCI', 'HCP', 'HCR', 'HCXY', 'HCXZ', 'HD', 'HDB', 'HE', 'HEI', 'HEI.A', 'HEP', 'HEQ', 'HES', 'HESM', 'HEXO', 'HFC', 'HFR-A', 'HFRO', 'HGH', 'HGLB', 'HGV', 'HHC', 'HHS', 'HI', 'HIE', 'HIG', 'HIG-G', 'HII', 'HIL', 'HIO', 'HIVE', 'HIW', 'HIX', 'HJV', 'HKIB', 'HL', 'HL-B', 'HLF', 'HLI', 'HLT', 'HLX', 'HMC', 'HMI', 'HML-A', 'HMLP', 'HMN', 'HMY', 'HNGR', 'HNI', 'HNP', 'HOG', 'HOME', 'HON', 'HOS', 'HOV', 'HP', 'HPE', 'HPF', 'HPI', 'HPP', 'HPQ', 'HPR', 'HPS', 'HQH', 'HQL', 'HR', 'HRB', 'HRC', 'HRI', 'HRL', 'HRTG', 'HSB-A', 'HSBC', 'HSC', 'HST', 'HSY', 'HT', 'HT-C', 'HT-D', 'HT-E', 'HTA', 'HTD', 'HTFA', 'HTGC', 'HTH', 'HTY', 'HTZ', 'HUBB', 'HUBS', 'HUD', 'HUM', 'HUN', 'HUYA', 'HVT', 'HVT.A', 'HXL', 'HY', 'HYB', 'HYI', 'HYT', 'HZN', 'HZO', 'I', 'IAA', 'IAE', 'IAG', 'IBA', 'IBM', 'IBN', 'IBP', 'ICD', 'ICE', 'ICL', 'IDA', 'IDE', 'IDT', 'IEX', 'IFF', 'IFFT', 'IFN', 'IFS', 'IGA', 'IGD', 'IGI', 'IGR', 'IGT', 'IHC', 'IHD', 'IHG', 'IHIT', 'IHTA', 'IID', 'IIF', 'IIM', 'IIP-A', 'IIPR', 'IMAX', 'INB', 'INF', 'INFO', 'INFY', 'ING', 'INGR', 'INN', 'INN-D', 'INN-E', 'INS-A', 'INSI', 'INSP', 'INST', 'INSW', 'INT', 'INVH', 'INXN', 'IO', 'IP', 'IPG', 'IPHI', 'IPI', 'IPO.U', 'IPO.W', 'IPOA', 'IQI', 'IQV', 'IR', 'IRE-C', 'IRET', 'IRL', 'IRM', 'IRR', 'IRS', 'IRT', 'ISD', 'ISG', 'IT', 'ITCB', 'ITGR', 'ITT', 'ITUB', 'ITW', 'IVC', 'IVH', 'IVR', 'IVR-A', 'IVR-B', 'IVR-C', 'IVZ', 'IX', 'JAG', 'JAX', 'JBGS', 'JBK', 'JBL', 'JBN', 'JBR', 'JBT', 'JCA-B', 'JCAP', 'JCE', 'JCI', 'JCO', 'JCP', 'JDD', 'JE', 'JE-A', 'JEC', 'JEF', 'JELD', 'JEMD', 'JEQ', 'JFR', 'JGH', 'JHAA', 'JHB', 'JHD', 'JHG', 'JHI', 'JHS', 'JHX', 'JHY', 'JILL', 'JKS', 'JLL', 'JLS', 'JMEI', 'JMF', 'JMIA', 'JMLP', 'JMM', 'JMP', 'JMPB', 'JMPD', 'JMT', 'JNJ', 'JNPR', 'JOE', 'JOF', 'JP', 'JPC', 'JPI', 'JPM', 'JPM-A', 'JPM-C', 'JPM-D', 'JPM-E', 'JPM-F', 'JPM-G', 'JPM-H', 'JPS', 'JPT', 'JQC', 'JRI', 'JRO', 'JRS', 'JSD', 'JT', 'JTA', 'JTD', 'JW.A', 'JW.B', 'JWN', 'K', 'KAI', 'KAMN', 'KAR', 'KB', 'KBH', 'KBR', 'KDMN', 'KDP', 'KEG', 'KEM', 'KEN', 'KEP', 'KEX', 'KEY', 'KEY-I', 'KEY-J', 'KEY-K', 'KEYS', 'KF', 'KFS', 'KFY', 'KGC', 'KIM', 'KIM-I', 'KIM-J', 'KIM-K', 'KIM-L', 'KIM-M', 'KIO', 'KKR', 'KKR-A', 'KKR-B', 'KL', 'KMB', 'KMF', 'KMI', 'KMPR', 'KMT', 'KMX', 'KN', 'KNL', 'KNOP', 'KNX', 'KO', 'KODK', 'KOF', 'KOP', 'KOS', 'KR', 'KRA', 'KRC', 'KREF', 'KRG', 'KRO', 'KRP', 'KSM', 'KSS', 'KSU', 'KSU.P', 'KT', 'KTB', 'KTF', 'KTH', 'KTN', 'KTP', 'KW', 'KWR', 'KYN', 'KYN-F', 'L', 'LAC', 'LAD', 'LADR', 'LAIX', 'LAZ', 'LB', 'LBRT', 'LC', 'LCI', 'LCII', 'LDL', 'LDOS', 'LDP', 'LEA', 'LEAF', 'LEE', 'LEG', 'LEJU', 'LEN', 'LEN.B', 'LEO', 'LEVI', 'LFC', 'LGC', 'LGC.U', 'LGC.W', 'LGF.A', 'LGF.B', 'LGI', 'LH', 'LHC', 'LHC.U', 'LHC.W', 'LHX', 'LII', 'LIN', 'LINX', 'LITB', 'LKSD', 'LL', 'LLY', 'LM', 'LMHA', 'LMHB', 'LMT', 'LN', 'LNC', 'LND', 'LNN', 'LOMA', 'LOR', 'LOW', 'LPG', 'LPI', 'LPL', 'LPT', 'LPX', 'LRN', 'LSI', 'LTC', 'LTHM', 'LTM', 'LUB', 'LUV', 'LVS', 'LW', 'LXFR', 'LXP', 'LXP-C', 'LXU', 'LYB', 'LYG', 'LYV', 'LZB', 'M', 'MA', 'MAA', 'MAA-I', 'MAC', 'MAIN', 'MAN', 'MANU', 'MAS', 'MATX', 'MAV', 'MAXR', 'MBI', 'MBT', 'MC', 'MCA', 'MCB', 'MCC', 'MCD', 'MCI', 'MCK', 'MCN', 'MCO', 'MCR', 'MCRN', 'MCS', 'MCV', 'MCX', 'MCY', 'MD', 'MDC', 'MDLA', 'MDLQ', 'MDLX', 'MDLY', 'MDP', 'MDR', 'MDT', 'MDU', 'MEC', 'MED', 'MEI', 'MEN', 'MER-K', 'MET', 'MET-A', 'MET-E', 'MFA', 'MFA-B', 'MFA.U', 'MFA.W', 'MFAC', 'MFC', 'MFD', 'MFG', 'MFGP', 'MFL', 'MFM', 'MFO', 'MFT', 'MFV', 'MG', 'MGA', 'MGF', 'MGM', 'MGP', 'MGR', 'MGU', 'MGY', 'MH-A', 'MH-C', 'MH-D', 'MHD', 'MHE', 'MHF', 'MHI', 'MHK', 'MHLA', 'MHN', 'MHNC', 'MHO', 'MIC', 'MIE', 'MIN', 'MIT-A', 'MIT-B', 'MITT', 'MIXT', 'MIY', 'MKC', 'MKC.V', 'MKL', 'MLI', 'MLM', 'MLP', 'MLR', 'MMC', 'MMD', 'MMI', 'MMM', 'MMP', 'MMS', 'MMT', 'MMU', 'MN', 'MNE', 'MNK', 'MNP', 'MNR', 'MNR-C', 'MNRL', 'MO', 'MOD', 'MODN', 'MOG.A', 'MOG.B', 'MOGU', 'MOH', 'MOS', 'MOS.U', 'MOS.W', 'MOSC', 'MOV', 'MPA', 'MPC', 'MPLX', 'MPV', 'MPW', 'MPX', 'MQT', 'MQY', 'MR', 'MRC', 'MRK', 'MRO', 'MS', 'MS-A', 'MS-E', 'MS-F', 'MS-G', 'MS-I', 'MS-K', 'MSA', 'MSB', 'MSC', 'MSCI', 'MSD', 'MSG', 'MSGN', 'MSI', 'MSL', 'MSM', 'MT', 'MTB', 'MTB-C', 'MTB.P', 'MTD', 'MTDR', 'MTG', 'MTH', 'MTL', 'MTL.P', 'MTN', 'MTOR', 'MTR', 'MTRN', 'MTT', 'MTW', 'MTX', 'MTZ', 'MUA', 'MUC', 'MUE', 'MUFG', 'MUH', 'MUI', 'MUJ', 'MUR', 'MUS', 'MUSA', 'MUX', 'MVC', 'MVCD', 'MVF', 'MVO', 'MVT', 'MWA', 'MX', 'MXE', 'MXF', 'MXL', 'MYC', 'MYD', 'MYE', 'MYF', 'MYI', 'MYJ', 'MYN', 'MYOV', 'MZA', 'NAC', 'NAD', 'NAN', 'NAT', 'NAV', 'NAV-D', 'NAZ', 'NBB', 'NBHC', 'NBL', 'NBLX', 'NBR', 'NBR-A', 'NC', 'NCA', 'NCB', 'NCI', 'NCLH', 'NCR', 'NCV', 'NCV-A', 'NCZ', 'NCZ-A', 'NDP', 'NE', 'NEA', 'NEE', 'NEE-I', 'NEE-J', 'NEE-K', 'NEE-N', 'NEE-R', 'NEM', 'NEP', 'NEU', 'NEV', 'NEW', 'NEWM', 'NEWR', 'NEXA', 'NFC', 'NFC.U', 'NFC.W', 'NFG', 'NFJ', 'NGG', 'NGL', 'NGL-A', 'NGL-B', 'NGL-C', 'NGS', 'NGVC', 'NGVT', 'NHA', 'NHF', 'NHI', 'NI', 'NI-B', 'NID', 'NIE', 'NIM', 'NINE', 'NIO', 'NIQ', 'NJR', 'NJV', 'NKE', 'NKG', 'NKX', 'NL', 'NLS', 'NLSN', 'NLY', 'NLY-D', 'NLY-F', 'NLY-G', 'NLY-I', 'NM', 'NM-G', 'NM-H', 'NMFC', 'NMFX', 'NMI', 'NMK-B', 'NMK-C', 'NMM', 'NMR', 'NMS', 'NMT', 'NMY', 'NMZ', 'NNA', 'NNC', 'NNI', 'NNN', 'NNN-E', 'NNN-F', 'NNY', 'NOA', 'NOAH', 'NOC', 'NOK', 'NOM', 'NOMD', 'NOV', 'NOVA', 'NOW', 'NP', 'NPK', 'NPN', 'NPO', 'NPTN', 'NPV', 'NQP', 'NR', 'NRE', 'NRG', 'NRGX', 'NRK', 'NRP', 'NRT', 'NRUC', 'NRZ', 'NRZ-A', 'NRZ-B', 'NS', 'NS-A', 'NS-B', 'NS-C', 'NSA', 'NSA-A', 'NSC', 'NSC.W', 'NSCO', 'NSL', 'NSP', 'NSS', 'NTB', 'NTC', 'NTG', 'NTP', 'NTR', 'NTX', 'NTZ', 'NUE', 'NUM', 'NUO', 'NUS', 'NUV', 'NUW', 'NVG', 'NVGS', 'NVO', 'NVR', 'NVRO', 'NVS', 'NVT', 'NVTA', 'NWE', 'NWHM', 'NWN', 'NX', 'NXC', 'NXJ', 'NXN', 'NXP', 'NXQ', 'NXR', 'NXRT', 'NYC-A', 'NYC-U', 'NYCB', 'NYT', 'NYV', 'NZF', 'O', 'OAC.U', 'OAK', 'OAK-A', 'OAK-B', 'OAS', 'OBE', 'OC', 'OCN', 'ODC', 'OEC', 'OFC', 'OFG', 'OFG-A', 'OFG-B', 'OFG-D', 'OGE', 'OGS', 'OHI', 'OI', 'OIA', 'OIB.C', 'OII', 'OIS', 'OKE', 'OLN', 'OLP', 'OMC', 'OMF', 'OMI', 'OMN', 'OMP', 'ONDK', 'ONE', 'OOMA', 'OPP', 'OPY', 'OR', 'ORA', 'ORAN', 'ORC', 'ORCC', 'ORCL', 'ORI', 'ORN', 'OSB', 'OSG', 'OSK', 'OSLE', 'OUT', 'OXM', 'OXY', 'OZM', 'PAA', 'PAC', 'PAC.W', 'PACD', 'PACK', 'PAG', 'PAGP', 'PAGS', 'PAI', 'PAM', 'PANW', 'PAR', 'PARR', 'PAYC', 'PB', 'PBA', 'PBB', 'PBC', 'PBF', 'PBFX', 'PBH', 'PBI', 'PBI-B', 'PBR', 'PBR.A', 'PBT', 'PBY', 'PCF', 'PCG', 'PCI', 'PCK', 'PCM', 'PCN', 'PCQ', 'PD', 'PDI', 'PDM', 'PDS', 'PDT', 'PE', 'PEB', 'PEB-C', 'PEB-D', 'PEB-E', 'PEB-F', 'PEG', 'PEI', 'PEI-B', 'PEI-C', 'PEI-D', 'PEN', 'PEO', 'PER', 'PES', 'PFD', 'PFE', 'PFGC', 'PFH', 'PFL', 'PFN', 'PFO', 'PFS', 'PFSI', 'PG', 'PGP', 'PGR', 'PGRE', 'PGTI', 'PGZ', 'PH', 'PHD', 'PHG', 'PHI', 'PHK', 'PHM', 'PHR', 'PHT', 'PHX', 'PIC', 'PIC.U', 'PII', 'PIM', 'PINS', 'PIR', 'PIY', 'PJC', 'PJH', 'PJT', 'PK', 'PKD', 'PKE', 'PKG', 'PKI', 'PKO', 'PKX', 'PLAN', 'PLD', 'PLNT', 'PLOW', 'PLT', 'PM', 'PMF', 'PML', 'PMM', 'PMO', 'PMT', 'PMT-A', 'PMT-B', 'PMX', 'PNC', 'PNC-P', 'PNC-Q', 'PNF', 'PNI', 'PNM', 'PNR', 'PNW', 'POL', 'POR', 'POST', 'PPDF', 'PPG', 'PPL', 'PPR', 'PPT', 'PPX', 'PQG', 'PRA', 'PRE-F', 'PRE-G', 'PRE-H', 'PRE-I', 'PRGO', 'PRH', 'PRI', 'PRI-A', 'PRI-B', 'PRI-C', 'PRI-D', 'PRLB', 'PRO', 'PROS', 'PRS', 'PRSP', 'PRT', 'PRTY', 'PRU', 'PSA', 'PSA-A', 'PSA-B', 'PSA-C', 'PSA-D', 'PSA-E', 'PSA-F', 'PSA-G', 'PSA-H', 'PSA-U', 'PSA-V', 'PSA-W', 'PSA-X', 'PSB', 'PSB-U', 'PSB-V', 'PSB-W', 'PSB-X', 'PSB-Y', 'PSF', 'PSN', 'PSO', 'PSTG', 'PSTL', 'PSV', 'PSX', 'PSXP', 'PTR', 'PTY', 'PUK', 'PUK-A', 'PUK.P', 'PUMP', 'PVG', 'PVH', 'PVL', 'PVT', 'PVT.U', 'PVT.W', 'PVTL', 'PWR', 'PXD', 'PYN', 'PYS', 'PYT', 'PYX', 'PZC', 'PZN', 'QD', 'QEP', 'QES', 'QGEN', 'QHC', 'QSR', 'QTS', 'QTS-A', 'QTS-B', 'QTWO', 'QUAD', 'QUOT', 'QVCD', 'R', 'RA', 'RACE', 'RAD', 'RAMP', 'RBA', 'RBC', 'RBS', 'RC', 'RCA', 'RCB', 'RCI', 'RCL', 'RCP', 'RCS', 'RCUS', 'RDN', 'RDS.A', 'RDS.B', 'RDY', 'RE', 'RELX', 'RENN', 'RES', 'RESI', 'REV', 'REVG', 'REX', 'REX-A', 'REX-B', 'REXR', 'REZI', 'RF', 'RF-A', 'RF-B', 'RF-C', 'RFI', 'RFP', 'RGA', 'RGR', 'RGS', 'RGT', 'RH', 'RHI', 'RHP', 'RIG', 'RIO', 'RIV', 'RJF', 'RL', 'RLGY', 'RLH', 'RLI', 'RLJ', 'RLJ-A', 'RM', 'RMAX', 'RMD', 'RMED', 'RMG', 'RMG.U', 'RMG.W', 'RMI', 'RMM', 'RMP.P', 'RMT', 'RNG', 'RNGR', 'RNP', 'RNR', 'RNR-C', 'RNR-E', 'RNR-F', 'ROAN', 'ROG', 'ROK', 'ROL', 'ROP', 'ROYT', 'RPAI', 'RPL.U', 'RPL.W', 'RPLA', 'RPM', 'RPT', 'RPT-D', 'RQI', 'RRC', 'RRD', 'RRTS', 'RS', 'RSF', 'RSG', 'RST', 'RTEC', 'RTN', 'RTW', 'RUBI', 'RVI', 'RVLV', 'RVT', 'RWG.U', 'RWG.W', 'RWGE', 'RWT', 'RXN', 'RXN-A', 'RY', 'RY-T', 'RYA-A', 'RYAM', 'RYB', 'RYI', 'RYN', 'RZA', 'RZB', 'S', 'SA', 'SAB', 'SAF', 'SAFE', 'SAH', 'SAIC', 'SAIL', 'SALT', 'SAM', 'SAN', 'SAN-B', 'SAP', 'SAR', 'SAVE', 'SB', 'SB-C', 'SB-D', 'SBE.U', 'SBGL', 'SBH', 'SBI', 'SBNA', 'SBOW', 'SBR', 'SBS', 'SC', 'SCA', 'SCCO', 'SCD', 'SCE-G', 'SCE-H', 'SCE-J', 'SCE-K', 'SCE-L', 'SCH-C', 'SCH-D', 'SCHW', 'SCI', 'SCL', 'SCM', 'SCP.U', 'SCS', 'SCX', 'SD', 'SDLP', 'SDR', 'SDRL', 'SDT', 'SE', 'SEAS', 'SEE', 'SEM', 'SEMG', 'SERV', 'SF', 'SF-A', 'SF-B', 'SFB', 'SFE', 'SFL', 'SFUN', 'SGU', 'SHAK', 'SHG', 'SHI', 'SHL.U', 'SHL.W', 'SHLL', 'SHLX', 'SHO', 'SHO-E', 'SHO-F', 'SHOP', 'SHW', 'SID', 'SIG', 'SIT-A', 'SIT-J', 'SIT-K', 'SITC', 'SITE', 'SIX', 'SJI', 'SJIU', 'SJM', 'SJR', 'SJT', 'SJW', 'SKM', 'SKT', 'SKX', 'SKY', 'SLB', 'SLCA', 'SLF', 'SLG', 'SLG-I', 'SM', 'SMAR', 'SMFG', 'SMG', 'SMHI', 'SMLP', 'SMM', 'SMP', 'SMTA', 'SNA', 'SNAP', 'SNDR', 'SNE', 'SNN', 'SNP', 'SNR', 'SNV', 'SNV-D', 'SNV-E', 'SNX', 'SO', 'SOGO', 'SOI', 'SOJA', 'SOJB', 'SOJC', 'SOL', 'SOLN', 'SON', 'SOR', 'SPA.U', 'SPA.W', 'SPAQ', 'SPB', 'SPE', 'SPE-B', 'SPG', 'SPG-J', 'SPGI', 'SPH', 'SPL-A', 'SPLP', 'SPN', 'SPOT', 'SPR', 'SPXC', 'SPXX', 'SQ', 'SQM', 'SQNS', 'SR', 'SR-A', 'SRC', 'SRC-A', 'SRE', 'SRE-A', 'SRE-B', 'SREA', 'SRF', 'SRG', 'SRG-A', 'SRI', 'SRL', 'SRLP', 'SRT', 'SRV', 'SSD', 'SSI', 'SSL', 'SSTK', 'SSW', 'SSW-D', 'SSW-E', 'SSW-G', 'SSW-H', 'SSW-I', 'SSWA', 'ST', 'STA-C', 'STA-D', 'STA-G', 'STA-I', 'STAG', 'STAR', 'STC', 'STE', 'STG', 'STI', 'STI-A', 'STK', 'STL', 'STL-A', 'STM', 'STN', 'STNG', 'STON', 'STOR', 'STT', 'STT-C', 'STT-D', 'STT-E', 'STT-G', 'STWD', 'STZ', 'STZ.B', 'SU', 'SUI', 'SUM', 'SUN', 'SUP', 'SUPV', 'SUZ', 'SWCH', 'SWI', 'SWJ', 'SWK', 'SWM', 'SWN', 'SWP', 'SWX', 'SWZ', 'SXC', 'SXI', 'SXT', 'SYF', 'SYK', 'SYX', 'SYY', 'SZC', 'T', 'TAC', 'TAK', 'TAL', 'TALO', 'TAP', 'TAP.A', 'TARO', 'TBB', 'TBC', 'TBI', 'TCI', 'TCO', 'TCO-J', 'TCO-K', 'TCP', 'TCRW', 'TCRZ', 'TCS', 'TD', 'TDA', 'TDC', 'TDE', 'TDF', 'TDG', 'TDI', 'TDJ', 'TDOC', 'TDS', 'TDW', 'TDW.A', 'TDW.B', 'TDY', 'TEAF', 'TECK', 'TEF', 'TEI', 'TEL', 'TEN', 'TEO', 'TEVA', 'TEX', 'TFX', 'TG', 'TGE', 'TGH', 'TGI', 'TGNA', 'TGP', 'TGP-A', 'TGP-B', 'TGS', 'TGT', 'THC', 'THG', 'THGA', 'THO', 'THQ', 'THR', 'THS', 'THW', 'TIF', 'TISI', 'TJX', 'TK', 'TKC', 'TKR', 'TLI', 'TLK', 'TLRA', 'TLRD', 'TLYS', 'TM', 'TME', 'TMHC', 'TMK', 'TMK-C', 'TMO', 'TMST', 'TNC', 'TNET', 'TNK', 'TNP', 'TNP-C', 'TNP-D', 'TNP-E', 'TNP-F', 'TOL', 'TOO', 'TOO-A', 'TOO-B', 'TOO-E', 'TOT', 'TOWR', 'TPB', 'TPC', 'TPG.H', 'TPG.I', 'TPGH', 'TPH', 'TPL', 'TPR', 'TPRE', 'TPVG', 'TPVY', 'TPX', 'TPZ', 'TR', 'TRC', 'TRCO', 'TREC', 'TREX', 'TRGP', 'TRI', 'TRK', 'TRN', 'TRN.U', 'TRN.W', 'TRNE', 'TRNO', 'TROX', 'TRP', 'TRQ', 'TRT-A', 'TRT-B', 'TRTN', 'TRTX', 'TRU', 'TRV', 'TRWH', 'TS', 'TSE', 'TSI', 'TSLF', 'TSLX', 'TSM', 'TSN', 'TSQ', 'TSS', 'TSU', 'TTC', 'TTI', 'TTM', 'TTP', 'TU', 'TUFN', 'TUP', 'TV', 'TVC', 'TVE', 'TWI', 'TWLO', 'TWN', 'TWO', 'TWO-A', 'TWO-B', 'TWO-C', 'TWO-D', 'TWO-E', 'TWTR', 'TX', 'TXT', 'TY', 'TY.P', 'TYG', 'TYL', 'UA', 'UAA', 'UAN', 'UBA', 'UBER', 'UBP', 'UBP-G', 'UBP-H', 'UBS', 'UDR', 'UE', 'UFI', 'UFS', 'UGI', 'UGP', 'UHS', 'UHT', 'UI', 'UIS', 'UL', 'UMC', 'UMH', 'UMH-B', 'UMH-C', 'UMH-D', 'UN', 'UNF', 'UNFI', 'UNH', 'UNM', 'UNMA', 'UNP', 'UNT', 'UNVR', 'UPS', 'URI', 'USA', 'USAC', 'USB', 'USB-A', 'USB-H', 'USB-M', 'USB-O', 'USB-P', 'USDP', 'USFD', 'USM', 'USNA', 'USPH', 'USX', 'UTF', 'UTI', 'UTL', 'UTX', 'UVE', 'UVV', 'UZA', 'UZB', 'UZC', 'V', 'VAC', 'VAL', 'VALE', 'VAM', 'VAPO', 'VAR', 'VBF', 'VCIF', 'VCRA', 'VCV', 'VEC', 'VEDL', 'VEEV', 'VER', 'VER-F', 'VET', 'VFC', 'VG', 'VGI', 'VGM', 'VGR', 'VHI', 'VICI', 'VIPS', 'VIST', 'VIV', 'VJET', 'VKQ', 'VLO', 'VLRS', 'VLT', 'VMC', 'VMI', 'VMO', 'VMW', 'VNCE', 'VNE', 'VNO', 'VNO-K', 'VNO-L', 'VNO-M', 'VNTR', 'VOC', 'VOY-B', 'VOYA', 'VPG', 'VPV', 'VRS', 'VRTV', 'VSH', 'VSI', 'VSLR', 'VSM', 'VST', 'VST.A', 'VSTO', 'VTA', 'VTN', 'VTR', 'VVI', 'VVR', 'VVV', 'VZ', 'W', 'WAAS', 'WAB', 'WAGE', 'WAIR', 'WAL', 'WALA', 'WAT', 'WBAI', 'WBC', 'WBK', 'WBS', 'WBS-F', 'WBT', 'WCC', 'WCG', 'WCN', 'WD', 'WDR', 'WEA', 'WEC', 'WEI', 'WELL', 'WES', 'WEX', 'WF', 'WFC', 'WFC-L', 'WFC-N', 'WFC-O', 'WFC-P', 'WFC-Q', 'WFC-R', 'WFC-T', 'WFC-V', 'WFC-W', 'WFC-X', 'WFC-Y', 'WFE-A', 'WGO', 'WH', 'WHD', 'WHG', 'WHR', 'WIA', 'WIT', 'WIW', 'WK', 'WLH', 'WLK', 'WLKP', 'WLL', 'WM', 'WMB', 'WMC', 'WMK', 'WMS', 'WMT', 'WNC', 'WNS', 'WOR', 'WORK', 'WOW', 'WPC', 'WPG', 'WPG-H', 'WPG-I', 'WPM', 'WPP', 'WPX', 'WRB', 'WRB-B', 'WRB-C', 'WRB-D', 'WRB-E', 'WRE', 'WRI', 'WRK', 'WSM', 'WSO', 'WSO.B', 'WSR', 'WST', 'WTI', 'WTM', 'WTR', 'WTRU', 'WTS', 'WTTR', 'WU', 'WUBA', 'WWE', 'WWW', 'WY', 'WYND', 'X', 'XAN', 'XAN-C', 'XEC', 'XFLT', 'XHR', 'XIN', 'XOM', 'XPO', 'XRF', 'XRX', 'XYF', 'XYL', 'Y', 'YELP', 'YETI', 'YEXT', 'YPF', 'YRD', 'YUM', 'YUMC', 'ZAYO', 'ZB-A', 'ZB-G', 'ZB-H', 'ZBH', 'ZBK', 'ZEN', 'ZF', 'ZNH', 'ZTO', 'ZTR', 'ZTS', 'ZUO']\n"
     ]
    }
   ],
   "source": [
    "NYSE_indexes = []\n",
    "for stock in NYSE_stocks:\n",
    "    index = stock[0]\n",
    "    NYSE_indexes.append(index)\n",
    "print(NYSE_indexes)"
   ]
  },
  {
   "cell_type": "markdown",
   "metadata": {},
   "source": [
    "<h1> Задание №2</h1>"
   ]
  },
  {
   "cell_type": "code",
   "execution_count": 8,
   "metadata": {},
   "outputs": [],
   "source": [
    "def count_daily_profit(cur_day, next_day):\n",
    "    return np.log(next_day / cur_day)\n",
    "\n",
    "def get_log_profits(prices):\n",
    "    profits = []\n",
    "    # -1 чтобы за границы не выйти\n",
    "    for i in range(len(prices) - 1):\n",
    "        profits.append(count_daily_profit(prices[i], prices[i+1]))\n",
    "    return profits"
   ]
  },
  {
   "cell_type": "markdown",
   "metadata": {},
   "source": [
    "<h3> Подсчет дневных логарифмических доходностей </h3>"
   ]
  },
  {
   "cell_type": "code",
   "execution_count": 9,
   "metadata": {},
   "outputs": [],
   "source": [
    "log_profits = []\n",
    "for stock_index in NYSE_indexes:\n",
    "    stock_log_profits = []\n",
    "    stock_data = df.loc[df['ticker'] == stock_index]\n",
    "    if stock_data.shape[0] == 0:\n",
    "        continue\n",
    "    stock_profits = get_log_profits(np.array(stock_data['close']))\n",
    "    log_profits.append((stock_index, stock_profits))"
   ]
  },
  {
   "cell_type": "markdown",
   "metadata": {},
   "source": [
    "<h5> Сохранение результатов в файл </h5>"
   ]
  },
  {
   "cell_type": "code",
   "execution_count": 10,
   "metadata": {},
   "outputs": [],
   "source": [
    "file = open(PATH + '/log_profits.txt', 'w+')\n",
    "log_profits_strs = str(log_profits)\n",
    "file.writelines(log_profits_strs)\n",
    "file.close()"
   ]
  },
  {
   "cell_type": "markdown",
   "metadata": {},
   "source": [
    "<h3> Подсчет среднего и стандартного отклонения дневных логорифмических доходностей акций. Построение карты активов </h3>"
   ]
  },
  {
   "cell_type": "code",
   "execution_count": 11,
   "metadata": {},
   "outputs": [],
   "source": [
    "stocks_means = []\n",
    "stocks_std = []\n",
    "stocks_indexes = []\n",
    "for stock_log_profits in log_profits:\n",
    "    stock_daily_profits = stock_log_profits\n",
    "    stock_index = stock_daily_profits[0]\n",
    "    stock_daily_profits = stock_daily_profits[1]\n",
    "    stocks_means.append(np.mean(stock_daily_profits))\n",
    "    stocks_std.append(np.std(stock_daily_profits))\n",
    "    stocks_indexes.append(stock_index)"
   ]
  },
  {
   "cell_type": "code",
   "execution_count": 12,
   "metadata": {},
   "outputs": [
    {
     "data": {
      "text/plain": [
       "[<matplotlib.lines.Line2D at 0x2cf13c85fd0>]"
      ]
     },
     "execution_count": 12,
     "metadata": {},
     "output_type": "execute_result"
    },
    {
     "data": {
      "image/png": "[encoded data removed]",
      "text/plain": [
       "<Figure size 432x288 with 1 Axes>"
      ]
     },
     "metadata": {
      "needs_background": "light"
     },
     "output_type": "display_data"
    }
   ],
   "source": [
    "plt.plot(stocks_means, stocks_std, 'o')"
   ]
  },
  {
   "cell_type": "code",
   "execution_count": null,
   "metadata": {},
   "outputs": [],
   "source": []
  }
 ],
 "metadata": {
  "kernelspec": {
   "display_name": "Python 3",
   "language": "python",
   "name": "python3"
  },
  "language_info": {
   "codemirror_mode": {
    "name": "ipython",
    "version": 3
   },
   "file_extension": ".py",
   "mimetype": "text/x-python",
   "name": "python",
   "nbconvert_exporter": "python",
   "pygments_lexer": "ipython3",
   "version": "3.6.7"
  }
 },
 "nbformat": 4,
 "nbformat_minor": 2
}
